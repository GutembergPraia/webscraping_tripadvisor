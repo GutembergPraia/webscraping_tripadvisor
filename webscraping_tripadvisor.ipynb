{
  "nbformat": 4,
  "nbformat_minor": 0,
  "metadata": {
    "colab": {
      "provenance": [],
      "authorship_tag": "ABX9TyOUVltN4pIzS5emL7VIHQ8N",
      "include_colab_link": true
    },
    "kernelspec": {
      "name": "python3",
      "display_name": "Python 3"
    },
    "language_info": {
      "name": "python"
    }
  },
  "cells": [
    {
      "cell_type": "markdown",
      "metadata": {
        "id": "view-in-github",
        "colab_type": "text"
      },
      "source": [
        "<a href=\"https://colab.research.google.com/github/GutembergPraia/webscraping_tripadvisor/blob/main/webscraping_tripadvisor.ipynb\" target=\"_parent\"><img src=\"https://colab.research.google.com/assets/colab-badge.svg\" alt=\"Open In Colab\"/></a>"
      ]
    },
    {
      "cell_type": "markdown",
      "source": [
        "Objetivo - Atraves de uma URL de pequisa no tripadvisor, percorre todos os resultados, capturando os comentarios, datada de postagem"
      ],
      "metadata": {
        "id": "2kVWl_YujIvf"
      }
    },
    {
      "cell_type": "markdown",
      "source": [
        "Instalação da biblioteacas necessarias:  "
      ],
      "metadata": {
        "id": "D7Ml07A8jwQV"
      }
    },
    {
      "cell_type": "code",
      "source": [
        "pip install beautifulsoup4"
      ],
      "metadata": {
        "colab": {
          "base_uri": "https://localhost:8080/"
        },
        "id": "eIvYG4QcjqWm",
        "outputId": "37da9e52-10d5-46f9-9911-430664bb4634"
      },
      "execution_count": 1,
      "outputs": [
        {
          "output_type": "stream",
          "name": "stdout",
          "text": [
            "Requirement already satisfied: beautifulsoup4 in /usr/local/lib/python3.10/dist-packages (4.11.2)\n",
            "Requirement already satisfied: soupsieve>1.2 in /usr/local/lib/python3.10/dist-packages (from beautifulsoup4) (2.4.1)\n"
          ]
        }
      ]
    },
    {
      "cell_type": "code",
      "source": [
        "pip install requests"
      ],
      "metadata": {
        "colab": {
          "base_uri": "https://localhost:8080/"
        },
        "id": "gxyydL1Xj6rB",
        "outputId": "8c3603d9-9c53-48a3-ed91-dbc65bb09442"
      },
      "execution_count": 2,
      "outputs": [
        {
          "output_type": "stream",
          "name": "stdout",
          "text": [
            "Requirement already satisfied: requests in /usr/local/lib/python3.10/dist-packages (2.27.1)\n",
            "Requirement already satisfied: urllib3<1.27,>=1.21.1 in /usr/local/lib/python3.10/dist-packages (from requests) (1.26.16)\n",
            "Requirement already satisfied: certifi>=2017.4.17 in /usr/local/lib/python3.10/dist-packages (from requests) (2023.7.22)\n",
            "Requirement already satisfied: charset-normalizer~=2.0.0 in /usr/local/lib/python3.10/dist-packages (from requests) (2.0.12)\n",
            "Requirement already satisfied: idna<4,>=2.5 in /usr/local/lib/python3.10/dist-packages (from requests) (3.4)\n"
          ]
        }
      ]
    },
    {
      "cell_type": "code",
      "source": [
        "pip install pandas"
      ],
      "metadata": {
        "colab": {
          "base_uri": "https://localhost:8080/"
        },
        "id": "0anCC7Ynj_5g",
        "outputId": "4f9eb681-dfc9-4e97-dac6-53a992684d81"
      },
      "execution_count": 3,
      "outputs": [
        {
          "output_type": "stream",
          "name": "stdout",
          "text": [
            "Requirement already satisfied: pandas in /usr/local/lib/python3.10/dist-packages (1.5.3)\n",
            "Requirement already satisfied: python-dateutil>=2.8.1 in /usr/local/lib/python3.10/dist-packages (from pandas) (2.8.2)\n",
            "Requirement already satisfied: pytz>=2020.1 in /usr/local/lib/python3.10/dist-packages (from pandas) (2022.7.1)\n",
            "Requirement already satisfied: numpy>=1.21.0 in /usr/local/lib/python3.10/dist-packages (from pandas) (1.22.4)\n",
            "Requirement already satisfied: six>=1.5 in /usr/local/lib/python3.10/dist-packages (from python-dateutil>=2.8.1->pandas) (1.16.0)\n"
          ]
        }
      ]
    },
    {
      "cell_type": "code",
      "source": [
        "def mes_to_int(mes: str):\n",
        "    mes_do_ano = {\n",
        "        'janeiro':'1',\n",
        "        'fevereiro':'2',\n",
        "        'março':'3',\n",
        "        'abril':'4',\n",
        "        'maio':'5',\n",
        "        'junho':'6',\n",
        "        'julho':'7',\n",
        "        'agosto':'8',\n",
        "        'setembro':'9',\n",
        "        'outubro':'10',\n",
        "        'novembro':'11',\n",
        "        'dezembro':'12'\n",
        "    }\n",
        "\n",
        "    return mes_do_ano[mes]"
      ],
      "metadata": {
        "id": "TeuHF96eafFf"
      },
      "execution_count": 5,
      "outputs": []
    },
    {
      "cell_type": "code",
      "source": [
        "#importes das bibliotecas\n",
        "import pandas as pd\n",
        "import requests\n",
        "import re\n",
        "\n",
        "from datetime import datetime\n",
        "from bs4 import BeautifulSoup\n",
        "from google.colab import files\n",
        "\n",
        "\n",
        "#URL da pesquisa\n",
        "url = 'https://www.tripadvisor.com.br/Attractions-g303235-Activities-c49-t28,30,32,33,161-zft11292-a_sort.TRAVELER__5F__RANKED-Manaus_Amazon_River_State_of_Amazon.html'\n",
        "\n",
        "#dicionario com os dados que seram coletados:\n",
        "dic_comentario = {'local':[], 'autor':[], 'nota':[],'titulo':[], 'comentario':[], 'cidade':[], 'estado':[], 'data':[], 'curtidas':[]}\n",
        "\n",
        "headers ={\"user-agent\":'Mozilla/5.0 (Windows NT 10.0; Win64; x64) AppleWebKit/537.36 (KHTML, like Gecko) Chrome/114.0.0.0 Safari/537.36'}\n",
        "\n",
        "site = requests.get(url,headers=headers)\n",
        "\n",
        "soup = BeautifulSoup(site.content, 'html.parser')"
      ],
      "metadata": {
        "id": "771JTLWckTRj"
      },
      "execution_count": 8,
      "outputs": []
    },
    {
      "cell_type": "code",
      "source": [
        "#laço de repetição que percorrer todos os resultados da pequisa, capturandos as urls de cada resultado\n",
        "for urlLocal in soup.find_all(\"a\",attrs={\"class\":\"BUupS _R w _Z y M0 B0 Gm wSSLS\"}):\n",
        "    #acesso a urls do resultado da pesquisa\n",
        "    urlCompleta = 'https://www.tripadvisor.com.br' + urlLocal.get('href')\n",
        "\n",
        "    site = requests.get(urlCompleta,headers=headers)\n",
        "    soupLocal = BeautifulSoup(site.content, 'html.parser')\n",
        "\n",
        "    #Verificar quantidade total de comentarios\n",
        "    quantTotal = int(soupLocal.find(attrs={\"class\":\"Ci\"}).get_text().split()[3])\n",
        "\n",
        "    print(quantTotal)\n",
        "\n",
        "    urlPadrao = []\n",
        "    urlPadrao.append(urlCompleta.split(\"Reviews-\")[0] + \"Reviews-or\")\n",
        "    urlPadrao.append(\"-\" + urlCompleta.split(\"Reviews-\")[1])\n",
        "\n",
        "    quantAtual = 0\n",
        "\n",
        "    #laço de repetição que verifica se todos os cometarios foram lidos\n",
        "    while quantTotal > quantAtual:\n",
        "        #laço de repetição que percorre todos os reviewCard de uma pagina\n",
        "        for link in soupLocal.find_all(attrs={\"data-automation\":\"reviewCard\"}):\n",
        "            dic_comentario['local'].append(soupLocal.find(attrs={\"class\":\"biGQs _P fiohW eIegw\"}).get_text())\n",
        "            dic_comentario['autor'].append(link.find(\"span\").get_text())\n",
        "            dic_comentario['nota'].append(link.find(attrs={\"class\":\"UctUV d H0\"}).get(\"aria-label\").split()[0])\n",
        "            dic_comentario['titulo'].append(link.find(attrs={\"class\":\"biGQs _P fiohW qWPrE ncFvv fOtGX\"}).get_text())\n",
        "            dic_comentario['comentario'].append(link.find(attrs={\"class\":\"fIrGe _T bgMZj\"}).get_text())\n",
        "            data_postagem_str = (link.find(string=re.compile(\"Feita em\"),attrs={\"class\":\"biGQs _P pZUbB ncFvv osNWb\"}).get_text()).split()\n",
        "            data_postagem_str_format = data_postagem_str[2]+'-'+mes_to_int(data_postagem_str[4])+'-'+data_postagem_str[6]\n",
        "            dic_comentario['data'].append(datetime.strptime(data_postagem_str_format, '%d-%m-%Y'))\n",
        "            dic_comentario['curtidas'].append(link.find(attrs={\"class\":\"biGQs _P FwFXZ\"}).get_text())\n",
        "            #coleta dado cidade e estado\n",
        "            cidade_estado = link.find(attrs={\"class\":\"biGQs _P pZUbB osNWb\"}).find(\"span\").get_text()\n",
        "            cidade_estado = cidade_estado.split(\", \")\n",
        "            if(len(cidade_estado)==2):\n",
        "                dic_comentario['cidade'].append(cidade_estado[0])\n",
        "                dic_comentario['estado'].append(cidade_estado[1])\n",
        "            else:\n",
        "                dic_comentario['cidade'].append(\"null\")\n",
        "                dic_comentario['estado'].append(\"null\")\n",
        "\n",
        "        quantAtual += 10\n",
        "        # se todos os comentarios ainda não foram lidos, carrega a proxima pagina de comentario\n",
        "        if(quantAtual < quantTotal):\n",
        "\n",
        "            urlCompleta = urlPadrao[0] + str(quantAtual) + urlPadrao[1]\n",
        "            #print(urlCompleta)\n",
        "\n",
        "            site = requests.get(urlCompleta,headers=headers)\n",
        "            soupLocal = BeautifulSoup(site.content, 'html.parser')\n",
        "\n",
        "df = pd.DataFrame(data=dic_comentario)"
      ],
      "metadata": {
        "colab": {
          "base_uri": "https://localhost:8080/"
        },
        "id": "AuRRVsRnlFKJ",
        "outputId": "86b299b1-c2f8-42b2-d08f-bf7e63d44a25"
      },
      "execution_count": 9,
      "outputs": [
        {
          "output_type": "stream",
          "name": "stdout",
          "text": [
            "281\n",
            "270\n",
            "145\n",
            "270\n",
            "113\n",
            "42\n",
            "33\n",
            "30\n",
            "20\n",
            "14\n",
            "18\n",
            "20\n",
            "12\n"
          ]
        }
      ]
    },
    {
      "cell_type": "code",
      "source": [
        "#fazer download do arquivo Gerado\n",
        "#print(dic_comentario)\n",
        "df = pd.DataFrame(data=dic_comentario)\n",
        "df.to_csv('output.csv', encoding = 'utf-8-sig')\n",
        "files.download('output.csv')"
      ],
      "metadata": {
        "colab": {
          "base_uri": "https://localhost:8080/",
          "height": 17
        },
        "id": "43KK-0JLm6XT",
        "outputId": "bc38e10f-089a-400e-d0a3-ec1978eca604"
      },
      "execution_count": 10,
      "outputs": [
        {
          "output_type": "display_data",
          "data": {
            "text/plain": [
              "<IPython.core.display.Javascript object>"
            ],
            "application/javascript": [
              "\n",
              "    async function download(id, filename, size) {\n",
              "      if (!google.colab.kernel.accessAllowed) {\n",
              "        return;\n",
              "      }\n",
              "      const div = document.createElement('div');\n",
              "      const label = document.createElement('label');\n",
              "      label.textContent = `Downloading \"${filename}\": `;\n",
              "      div.appendChild(label);\n",
              "      const progress = document.createElement('progress');\n",
              "      progress.max = size;\n",
              "      div.appendChild(progress);\n",
              "      document.body.appendChild(div);\n",
              "\n",
              "      const buffers = [];\n",
              "      let downloaded = 0;\n",
              "\n",
              "      const channel = await google.colab.kernel.comms.open(id);\n",
              "      // Send a message to notify the kernel that we're ready.\n",
              "      channel.send({})\n",
              "\n",
              "      for await (const message of channel.messages) {\n",
              "        // Send a message to notify the kernel that we're ready.\n",
              "        channel.send({})\n",
              "        if (message.buffers) {\n",
              "          for (const buffer of message.buffers) {\n",
              "            buffers.push(buffer);\n",
              "            downloaded += buffer.byteLength;\n",
              "            progress.value = downloaded;\n",
              "          }\n",
              "        }\n",
              "      }\n",
              "      const blob = new Blob(buffers, {type: 'application/binary'});\n",
              "      const a = document.createElement('a');\n",
              "      a.href = window.URL.createObjectURL(blob);\n",
              "      a.download = filename;\n",
              "      div.appendChild(a);\n",
              "      a.click();\n",
              "      div.remove();\n",
              "    }\n",
              "  "
            ]
          },
          "metadata": {}
        },
        {
          "output_type": "display_data",
          "data": {
            "text/plain": [
              "<IPython.core.display.Javascript object>"
            ],
            "application/javascript": [
              "download(\"download_9cf17862-1274-4cff-ad59-b664951a7225\", \"output.csv\", 436701)"
            ]
          },
          "metadata": {}
        }
      ]
    }
  ]
}